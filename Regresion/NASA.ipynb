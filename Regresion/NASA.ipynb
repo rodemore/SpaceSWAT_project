{
 "cells": [
  {
   "cell_type": "code",
   "execution_count": 1,
   "metadata": {},
   "outputs": [],
   "source": [
    "import pandas as pd\n",
    "import numpy as np\n",
    "import random as rd\n",
    "from sklearn.preprocessing import PolynomialFeatures\n",
    "from sklearn.preprocessing import MinMaxScaler\n",
    "from sklearn.model_selection import train_test_split \n",
    "from sklearn.linear_model import LogisticRegression\n",
    "from sklearn import linear_model\n",
    "from sklearn import metrics\n",
    "import matplotlib.pyplot as plt \n",
    "\n",
    "%matplotlib inline"
   ]
  },
  {
   "cell_type": "code",
   "execution_count": 2,
   "metadata": {
    "scrolled": true
   },
   "outputs": [
    {
     "data": {
      "text/html": [
       "<div>\n",
       "<style scoped>\n",
       "    .dataframe tbody tr th:only-of-type {\n",
       "        vertical-align: middle;\n",
       "    }\n",
       "\n",
       "    .dataframe tbody tr th {\n",
       "        vertical-align: top;\n",
       "    }\n",
       "\n",
       "    .dataframe thead th {\n",
       "        text-align: right;\n",
       "    }\n",
       "</style>\n",
       "<table border=\"1\" class=\"dataframe\">\n",
       "  <thead>\n",
       "    <tr style=\"text-align: right;\">\n",
       "      <th></th>\n",
       "      <th>dt</th>\n",
       "      <th>AverageTemperature</th>\n",
       "      <th>Country</th>\n",
       "      <th>latitude</th>\n",
       "      <th>longitude</th>\n",
       "    </tr>\n",
       "  </thead>\n",
       "  <tbody>\n",
       "    <tr>\n",
       "      <th>504304</th>\n",
       "      <td>1922-10-01</td>\n",
       "      <td>19.387</td>\n",
       "      <td>Swaziland</td>\n",
       "      <td>-26.522503</td>\n",
       "      <td>31.465866</td>\n",
       "    </tr>\n",
       "    <tr>\n",
       "      <th>377327</th>\n",
       "      <td>1878-07-01</td>\n",
       "      <td>31.621</td>\n",
       "      <td>Niger</td>\n",
       "      <td>17.607789</td>\n",
       "      <td>8.081666</td>\n",
       "    </tr>\n",
       "    <tr>\n",
       "      <th>511525</th>\n",
       "      <td>1984-09-01</td>\n",
       "      <td>11.337</td>\n",
       "      <td>Switzerland</td>\n",
       "      <td>46.818188</td>\n",
       "      <td>8.227512</td>\n",
       "    </tr>\n",
       "    <tr>\n",
       "      <th>441136</th>\n",
       "      <td>1984-02-01</td>\n",
       "      <td>25.952</td>\n",
       "      <td>Saint Lucia</td>\n",
       "      <td>13.909444</td>\n",
       "      <td>-60.978893</td>\n",
       "    </tr>\n",
       "    <tr>\n",
       "      <th>46109</th>\n",
       "      <td>1892-05-01</td>\n",
       "      <td>30.097</td>\n",
       "      <td>Bahrain</td>\n",
       "      <td>25.930414</td>\n",
       "      <td>50.637772</td>\n",
       "    </tr>\n",
       "  </tbody>\n",
       "</table>\n",
       "</div>"
      ],
      "text/plain": [
       "               dt  AverageTemperature      Country   latitude  longitude\n",
       "504304 1922-10-01              19.387    Swaziland -26.522503  31.465866\n",
       "377327 1878-07-01              31.621        Niger  17.607789   8.081666\n",
       "511525 1984-09-01              11.337  Switzerland  46.818188   8.227512\n",
       "441136 1984-02-01              25.952  Saint Lucia  13.909444 -60.978893\n",
       "46109  1892-05-01              30.097      Bahrain  25.930414  50.637772"
      ]
     },
     "execution_count": 2,
     "metadata": {},
     "output_type": "execute_result"
    }
   ],
   "source": [
    "countries = pd.read_csv(\"countries.csv\")\n",
    "countries.rename(columns={\"name\":\"Country\"}, inplace=True)\n",
    "del countries[\"country\"]\n",
    "\n",
    "temp_country = pd.read_csv(\"GlobalLandTemperaturesByCountry.csv\").merge(countries, on=\"Country\",how=\"left\")\n",
    "temp_country.dt = pd.to_datetime(temp_country.dt)\n",
    "del temp_country[\"AverageTemperatureUncertainty\"]\n",
    "\n",
    "temp_country.sample(5)"
   ]
  },
  {
   "cell_type": "code",
   "execution_count": 3,
   "metadata": {},
   "outputs": [],
   "source": [
    "temp_country_notnull =temp_country.dropna(axis=0).sort_values(by=\"dt\", ascending=True)\n",
    "porc_null_oridinal = len(temp_country_notnull)/len(temp_country)"
   ]
  },
  {
   "cell_type": "code",
   "execution_count": 4,
   "metadata": {
    "scrolled": false
   },
   "outputs": [],
   "source": [
    "country=\"France\"\n",
    "\n",
    "x = temp_country_notnull[temp_country_notnull[\"Country\"]==country][[\"dt\",\"AverageTemperature\"]].set_index(\"dt\")\n",
    "g = x.resample(\"Y\").mean().dropna(axis=0) # devuelve un dataframe\n",
    "#g.plot(color= \"red\")\n",
    "\n",
    "\n",
    "#Nan aletorios\n",
    "df = g.copy().reset_index().dropna(axis=0)\n",
    "data_null = df # Datos con nulos, se usara para validar\n",
    "data_null[\"year\"] = data_null.dt.dt.year\n",
    "del data_null[\"dt\"] \n",
    "\n",
    "indices = data_null.sample(frac=0.29).index\n",
    "d = df.copy()\n",
    "data_null.loc[indices, 'AverageTemperature'] = np.nan\n",
    "\n",
    "data_val = d.loc[indices,:]\n",
    "\n",
    "data = data_null.dropna(axis=0) #Data sin nulos"
   ]
  },
  {
   "cell_type": "code",
   "execution_count": 5,
   "metadata": {
    "scrolled": true
   },
   "outputs": [
    {
     "data": {
      "text/html": [
       "<div>\n",
       "<style scoped>\n",
       "    .dataframe tbody tr th:only-of-type {\n",
       "        vertical-align: middle;\n",
       "    }\n",
       "\n",
       "    .dataframe tbody tr th {\n",
       "        vertical-align: top;\n",
       "    }\n",
       "\n",
       "    .dataframe thead th {\n",
       "        text-align: right;\n",
       "    }\n",
       "</style>\n",
       "<table border=\"1\" class=\"dataframe\">\n",
       "  <thead>\n",
       "    <tr style=\"text-align: right;\">\n",
       "      <th></th>\n",
       "      <th>dt</th>\n",
       "      <th>AverageTemperature</th>\n",
       "      <th>latitude</th>\n",
       "      <th>longitude</th>\n",
       "    </tr>\n",
       "    <tr>\n",
       "      <th>Country</th>\n",
       "      <th></th>\n",
       "      <th></th>\n",
       "      <th></th>\n",
       "      <th></th>\n",
       "    </tr>\n",
       "  </thead>\n",
       "  <tbody>\n",
       "    <tr>\n",
       "      <th>Luxembourg</th>\n",
       "      <td>3166</td>\n",
       "      <td>3166</td>\n",
       "      <td>3166</td>\n",
       "      <td>3166</td>\n",
       "    </tr>\n",
       "    <tr>\n",
       "      <th>Serbia</th>\n",
       "      <td>3166</td>\n",
       "      <td>3166</td>\n",
       "      <td>3166</td>\n",
       "      <td>3166</td>\n",
       "    </tr>\n",
       "    <tr>\n",
       "      <th>Norway</th>\n",
       "      <td>3166</td>\n",
       "      <td>3166</td>\n",
       "      <td>3166</td>\n",
       "      <td>3166</td>\n",
       "    </tr>\n",
       "    <tr>\n",
       "      <th>Switzerland</th>\n",
       "      <td>3166</td>\n",
       "      <td>3166</td>\n",
       "      <td>3166</td>\n",
       "      <td>3166</td>\n",
       "    </tr>\n",
       "    <tr>\n",
       "      <th>Sweden</th>\n",
       "      <td>3166</td>\n",
       "      <td>3166</td>\n",
       "      <td>3166</td>\n",
       "      <td>3166</td>\n",
       "    </tr>\n",
       "    <tr>\n",
       "      <th>Iceland</th>\n",
       "      <td>3166</td>\n",
       "      <td>3166</td>\n",
       "      <td>3166</td>\n",
       "      <td>3166</td>\n",
       "    </tr>\n",
       "    <tr>\n",
       "      <th>Spain</th>\n",
       "      <td>3166</td>\n",
       "      <td>3166</td>\n",
       "      <td>3166</td>\n",
       "      <td>3166</td>\n",
       "    </tr>\n",
       "    <tr>\n",
       "      <th>Slovenia</th>\n",
       "      <td>3166</td>\n",
       "      <td>3166</td>\n",
       "      <td>3166</td>\n",
       "      <td>3166</td>\n",
       "    </tr>\n",
       "    <tr>\n",
       "      <th>Slovakia</th>\n",
       "      <td>3166</td>\n",
       "      <td>3166</td>\n",
       "      <td>3166</td>\n",
       "      <td>3166</td>\n",
       "    </tr>\n",
       "    <tr>\n",
       "      <th>Croatia</th>\n",
       "      <td>3166</td>\n",
       "      <td>3166</td>\n",
       "      <td>3166</td>\n",
       "      <td>3166</td>\n",
       "    </tr>\n",
       "  </tbody>\n",
       "</table>\n",
       "</div>"
      ],
      "text/plain": [
       "               dt  AverageTemperature  latitude  longitude\n",
       "Country                                                   \n",
       "Luxembourg   3166                3166      3166       3166\n",
       "Serbia       3166                3166      3166       3166\n",
       "Norway       3166                3166      3166       3166\n",
       "Switzerland  3166                3166      3166       3166\n",
       "Sweden       3166                3166      3166       3166\n",
       "Iceland      3166                3166      3166       3166\n",
       "Spain        3166                3166      3166       3166\n",
       "Slovenia     3166                3166      3166       3166\n",
       "Slovakia     3166                3166      3166       3166\n",
       "Croatia      3166                3166      3166       3166"
      ]
     },
     "execution_count": 5,
     "metadata": {},
     "output_type": "execute_result"
    }
   ],
   "source": [
    "temp_country_notnull.groupby(\"Country\").count().sort_values(by=\"latitude\",ascending=False).head(10)"
   ]
  },
  {
   "cell_type": "markdown",
   "metadata": {},
   "source": [
    "# Modelo de prediccion con nulos"
   ]
  },
  {
   "cell_type": "code",
   "execution_count": 6,
   "metadata": {
    "scrolled": true
   },
   "outputs": [
    {
     "data": {
      "text/plain": [
       "<matplotlib.collections.PathCollection at 0x21bb298ea90>"
      ]
     },
     "execution_count": 6,
     "metadata": {},
     "output_type": "execute_result"
    },
    {
     "data": {
      "image/png": "[encoded data removed]",
      "text/plain": [
       "<Figure size 432x288 with 1 Axes>"
      ]
     },
     "metadata": {
      "needs_background": "light"
     },
     "output_type": "display_data"
    }
   ],
   "source": [
    "datos = data_null.copy()\n",
    "\n",
    "x= datos.year.values.reshape(-1,1)\n",
    "y = datos.AverageTemperature.values.reshape(-1,1)\n",
    "\n",
    "plt.scatter(x, y)"
   ]
  },
  {
   "cell_type": "code",
   "execution_count": 7,
   "metadata": {},
   "outputs": [],
   "source": [
    "#n = data[data[\"Country\"]==country][[\"dt\",\"AverageTemperature\"]].set_index(\"dt\").resample(\"Y\").mean().dropna(axis=0).reset_index()\n",
    "#n[\"year\"] = n.dt.dt.year\n",
    "#n=n.dropna(axis=0)\n",
    "\n",
    "def regresionPol(data):\n",
    "    x= data.year.values.reshape(-1,1)\n",
    "    y = data.AverageTemperature.values.reshape(-1,1)\n",
    "    x_train, x_test, y_train, y_test = train_test_split(x, y)\n",
    "\n",
    "    #Se define el grado del polinomio\n",
    "    poli = PolynomialFeatures(degree = 2)\n",
    "\n",
    "    #Se transforma las caracterisitcas existentes en caractéristicas de mayor grado\n",
    "    X_train_poli = poli.fit_transform(x_train)\n",
    "    X_test_poli = poli.fit_transform(x_test)\n",
    "\n",
    "    #Defir el algoritmo a utilizar\n",
    "    pr = linear_model.LinearRegression()\n",
    "    pr.fit(X_train_poli, y_train)\n",
    "    \n",
    "    return pr\n",
    "    "
   ]
  },
  {
   "cell_type": "code",
   "execution_count": 10,
   "metadata": {},
   "outputs": [],
   "source": [
    "regresion_notNull = regresionPol(data)\n",
    "regresion_Null = regresionPol(d)"
   ]
  },
  {
   "cell_type": "code",
   "execution_count": 11,
   "metadata": {
    "scrolled": true
   },
   "outputs": [
    {
     "data": {
      "text/html": [
       "<div>\n",
       "<style scoped>\n",
       "    .dataframe tbody tr th:only-of-type {\n",
       "        vertical-align: middle;\n",
       "    }\n",
       "\n",
       "    .dataframe tbody tr th {\n",
       "        vertical-align: top;\n",
       "    }\n",
       "\n",
       "    .dataframe thead th {\n",
       "        text-align: right;\n",
       "    }\n",
       "</style>\n",
       "<table border=\"1\" class=\"dataframe\">\n",
       "  <thead>\n",
       "    <tr style=\"text-align: right;\">\n",
       "      <th></th>\n",
       "      <th>AverageTemperature</th>\n",
       "      <th>year</th>\n",
       "      <th>NotNull</th>\n",
       "      <th>Null</th>\n",
       "    </tr>\n",
       "  </thead>\n",
       "  <tbody>\n",
       "    <tr>\n",
       "      <th>155</th>\n",
       "      <td>12.391917</td>\n",
       "      <td>1902</td>\n",
       "      <td>12.541585</td>\n",
       "      <td>12.634290</td>\n",
       "    </tr>\n",
       "    <tr>\n",
       "      <th>52</th>\n",
       "      <td>11.889083</td>\n",
       "      <td>1799</td>\n",
       "      <td>12.570724</td>\n",
       "      <td>12.433203</td>\n",
       "    </tr>\n",
       "    <tr>\n",
       "      <th>46</th>\n",
       "      <td>12.945083</td>\n",
       "      <td>1793</td>\n",
       "      <td>12.610423</td>\n",
       "      <td>12.442560</td>\n",
       "    </tr>\n",
       "    <tr>\n",
       "      <th>135</th>\n",
       "      <td>12.592833</td>\n",
       "      <td>1882</td>\n",
       "      <td>12.450786</td>\n",
       "      <td>12.541760</td>\n",
       "    </tr>\n",
       "    <tr>\n",
       "      <th>249</th>\n",
       "      <td>13.013917</td>\n",
       "      <td>1996</td>\n",
       "      <td>13.591005</td>\n",
       "      <td>13.414441</td>\n",
       "    </tr>\n",
       "  </tbody>\n",
       "</table>\n",
       "</div>"
      ],
      "text/plain": [
       "     AverageTemperature  year    NotNull       Null\n",
       "155           12.391917  1902  12.541585  12.634290\n",
       "52            11.889083  1799  12.570724  12.433203\n",
       "46            12.945083  1793  12.610423  12.442560\n",
       "135           12.592833  1882  12.450786  12.541760\n",
       "249           13.013917  1996  13.591005  13.414441"
      ]
     },
     "execution_count": 11,
     "metadata": {},
     "output_type": "execute_result"
    }
   ],
   "source": [
    "poli = PolynomialFeatures(degree = 2)\n",
    "validar = poli.fit_transform(data_val.year.values.reshape(-1,1))\n",
    "\n",
    "#Predicciones\n",
    "data_val[\"NotNull\"] = regresion_notNull.predict(validar)\n",
    "data_val[\"Null\"] = regresion_Null.predict(validar)\n",
    "data_val.sample(5)"
   ]
  },
  {
   "cell_type": "code",
   "execution_count": 12,
   "metadata": {},
   "outputs": [
    {
     "name": "stdout",
     "output_type": "stream",
     "text": [
      "Mean Absolute Error: 0.4639269693784893\n",
      "Mean Squared Error: 0.5954607451259385\n",
      "Root Mean Squared Error: 0.7716610299386244\n",
      "\n",
      "\n",
      "Mean Absolute Error: 0.47852921931809916\n",
      "Mean Squared Error: 0.6757878518083328\n",
      "Root Mean Squared Error: 0.8220631677726066\n"
     ]
    }
   ],
   "source": [
    "print('Mean Absolute Error:', metrics.mean_absolute_error(data_val.AverageTemperature, data_val.Null))  \n",
    "print('Mean Squared Error:', metrics.mean_squared_error(data_val.AverageTemperature, data_val.Null))  \n",
    "print('Root Mean Squared Error:', np.sqrt(metrics.mean_squared_error(data_val.AverageTemperature, data_val.Null)))\n",
    "print(\"\\n\")\n",
    "print('Mean Absolute Error:', metrics.mean_absolute_error(data_val.AverageTemperature, data_val.NotNull))  \n",
    "print('Mean Squared Error:', metrics.mean_squared_error(data_val.AverageTemperature, data_val.NotNull))  \n",
    "print('Root Mean Squared Error:', np.sqrt(metrics.mean_squared_error(data_val.AverageTemperature, data_val.NotNull)))"
   ]
  }
 ],
 "metadata": {
  "kernelspec": {
   "display_name": "Python 3",
   "language": "python",
   "name": "python3"
  },
  "language_info": {
   "codemirror_mode": {
    "name": "ipython",
    "version": 3
   },
   "file_extension": ".py",
   "mimetype": "text/x-python",
   "name": "python",
   "nbconvert_exporter": "python",
   "pygments_lexer": "ipython3",
   "version": "3.7.2"
  }
 },
 "nbformat": 4,
 "nbformat_minor": 2
}
